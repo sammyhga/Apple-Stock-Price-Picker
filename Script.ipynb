{
 "cells": [
  {
   "cell_type": "code",
   "execution_count": 25,
   "id": "451202d2-2337-471b-8b00-eead3794200c",
   "metadata": {},
   "outputs": [],
   "source": [
    "import pandas as pd\n",
    "import numpy as np\n",
    "from random import randint as rand\n",
    "import matplotlib.pyplot as plt"
   ]
  },
  {
   "cell_type": "code",
   "execution_count": 26,
   "id": "4965f292-d15e-4c57-bac6-e6828d456365",
   "metadata": {},
   "outputs": [],
   "source": [
    "df=pd.read_csv(\"apple_price_history.csv\")"
   ]
  },
  {
   "cell_type": "code",
   "execution_count": 27,
   "id": "ec22e314-8867-4040-b2aa-0a63a9b28069",
   "metadata": {},
   "outputs": [],
   "source": [
    "low_price = []\n",
    "high_price = []\n",
    "dates = []\n",
    "p = {}\n",
    "\n",
    "for x in range (0,2):\n",
    "    x = rand (1,57) #generate random index number\n",
    "    low = df.iloc[x,2]\n",
    "    high = df.iloc[x,1]\n",
    "    date = df.iloc[x,6][0:10]\n",
    "    low_price.append(low)\n",
    "    high_price.append(high)\n",
    "    dates.append(date)\n",
    "\n",
    "data = pd.DataFrame(zip(low_price, high_price, dates))\n",
    "data.columns = ['low2', 'high2', 'date']"
   ]
  },
  {
   "cell_type": "code",
   "execution_count": 28,
   "id": "4e06b36a-650e-4270-9454-ce4c2dab03b6",
   "metadata": {},
   "outputs": [
    {
     "data": {
      "image/png": "[encoded data removed]",
      "text/plain": [
       "<Figure size 432x288 with 1 Axes>"
      ]
     },
     "metadata": {
      "needs_background": "light"
     },
     "output_type": "display_data"
    }
   ],
   "source": [
    "width = 0.35\n",
    "price = ['low2', 'high2']\n",
    "index = np.arange(len(price))\n",
    "price_label = np.arange(0,200, 20)\n",
    "\n",
    "fig, ax = plt.subplots()\n",
    "barlow = ax.bar(index-width/2, data['low2'], width, label = 'low')\n",
    "barhigh = ax.bar(index + width/2, data['high2'], width, label = 'high')\n",
    "ax.set_title ('Highest and lowest prices of Apple stock (AAPL)')\n",
    "#Display value on bargraph\n",
    "ax.bar_label(barlow, padding=3)\n",
    "ax.bar_label(barhigh, padding=3)\n",
    "\n",
    "#Show dates on x-axis\n",
    "ax.set_xticks(index)\n",
    "ax.set_xticklabels (data['date'])\n",
    "\n",
    "#Show price on y-axis\n",
    "ax.set_yticks (price_label)\n",
    "\n",
    "ax.legend()\n",
    "fig.tight_layout()\n",
    "plt.show()"
   ]
  },
  {
   "cell_type": "code",
   "execution_count": null,
   "id": "89aef1bf-bca9-4165-80f7-c5157341bae5",
   "metadata": {},
   "outputs": [],
   "source": []
  }
 ],
 "metadata": {
  "kernelspec": {
   "display_name": "Python 3 (ipykernel)",
   "language": "python",
   "name": "python3"
  },
  "language_info": {
   "codemirror_mode": {
    "name": "ipython",
    "version": 3
   },
   "file_extension": ".py",
   "mimetype": "text/x-python",
   "name": "python",
   "nbconvert_exporter": "python",
   "pygments_lexer": "ipython3",
   "version": "3.9.13"
  }
 },
 "nbformat": 4,
 "nbformat_minor": 5
}
